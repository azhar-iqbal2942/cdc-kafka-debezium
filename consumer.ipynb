{
 "cells": [
  {
   "cell_type": "code",
   "execution_count": 2,
   "metadata": {},
   "outputs": [
    {
     "name": "stdout",
     "output_type": "stream",
     "text": [
      "Topic Name=source.public.users,Message=b'{\"id\":1,\"name\":\"Azhar\",\"age\":26}'\n",
      "Topic Name=source.public.users,Message=b'{\"id\":2,\"name\":\"Test\",\"age\":12}'\n",
      "Topic Name=source.public.users,Message=b'{\"id\":1,\"name\":\"updated\",\"age\":26}'\n",
      "Topic Name=source.public.users,Message=b'{\"id\":1,\"name\":\"Changes for Ibrahim\",\"age\":26}'\n",
      "Topic Name=source.public.users,Message=b'{\"id\":2,\"name\":\"hahahah\",\"age\":12}'\n"
     ]
    }
   ],
   "source": [
    "from kafka import KafkaConsumer\n",
    "\n",
    "# Define server with port\n",
    "bootstrap_servers = [\"localhost:29092\"]\n",
    "\n",
    "# Define topic name from where the message will recieve\n",
    "topicName = \"source.public.users\"\n",
    "\n",
    "# Initialize consumer variable\n",
    "consumer = KafkaConsumer(\n",
    "    topicName, auto_offset_reset=\"earliest\", bootstrap_servers=bootstrap_servers\n",
    ")\n",
    "\n",
    "# Read and print message from consumer\n",
    "for msg in consumer:\n",
    "    print(\"Topic Name=%s,Message=%s\" % (msg.topic, msg.value))\n"
   ]
  },
  {
   "cell_type": "code",
   "execution_count": null,
   "metadata": {},
   "outputs": [],
   "source": []
  }
 ],
 "metadata": {
  "kernelspec": {
   "display_name": "venv",
   "language": "python",
   "name": "python3"
  },
  "language_info": {
   "codemirror_mode": {
    "name": "ipython",
    "version": 3
   },
   "file_extension": ".py",
   "mimetype": "text/x-python",
   "name": "python",
   "nbconvert_exporter": "python",
   "pygments_lexer": "ipython3",
   "version": "3.9.16"
  },
  "orig_nbformat": 4
 },
 "nbformat": 4,
 "nbformat_minor": 2
}
